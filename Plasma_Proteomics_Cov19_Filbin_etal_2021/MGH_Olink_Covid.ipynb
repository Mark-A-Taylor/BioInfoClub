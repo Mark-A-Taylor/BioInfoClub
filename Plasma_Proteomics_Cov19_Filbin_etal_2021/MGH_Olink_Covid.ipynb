{
 "cells": [
  {
   "cell_type": "markdown",
   "metadata": {
    "id": "8xplf5Qvl1Xe"
   },
   "source": [
    "# Paper from BioInfo Club: \n",
    "\"Plasma proteomics reveals tissue-specific cell death and mediators of cell-cell interactions in severe COVID-19 patients\", Filbin et.al., https://pubmed.ncbi.nlm.nih.gov/33173871/"
   ]
  },
  {
   "cell_type": "code",
   "execution_count": 30,
   "metadata": {
    "executionInfo": {
     "elapsed": 512,
     "status": "ok",
     "timestamp": 1613507283678,
     "user": {
      "displayName": "MarkT",
      "photoUrl": "https://lh6.googleusercontent.com/-V1tAr0Wo2HY/AAAAAAAAAAI/AAAAAAAACxs/U3ijszpAPJc/s64/photo.jpg",
      "userId": "05951859285137718821"
     },
     "user_tz": 480
    },
    "id": "eqQC64C9vN__"
   },
   "outputs": [],
   "source": [
    "# general imports to support logic below\n",
    "#\n",
    "# data wrangling\n",
    "import pandas as pd\n",
    "import numpy as np\n",
    "\n",
    "# plotting\n",
    "import matplotlib.pyplot as plt\n",
    "import seaborn as sns\n",
    "\n",
    "# statistics\n",
    "from scipy.stats import mannwhitneyu\n",
    "from scipy.stats import chisquare\n",
    "from scipy.stats import chi2_contingency\n",
    "from scipy.stats import chi2\n"
   ]
  },
  {
   "cell_type": "markdown",
   "metadata": {},
   "source": [
    "# Get the data files from the paper:\n",
    "source: https://www.olink.com/mgh-covid-study/\n",
    "\n",
    "There are/were 3 data files:"
   ]
  },
  {
   "cell_type": "code",
   "execution_count": 2,
   "metadata": {},
   "outputs": [],
   "source": [
    "# File Names\n",
    "myNpxFile = \"MGH_COVID_OLINK_NPX.txt\"\n",
    "myInfoFile = \"MGH_COVID_Clinical_Info.txt\"\n",
    "myVarDescFile = \"variable_descriptions.xlsx\""
   ]
  },
  {
   "cell_type": "markdown",
   "metadata": {},
   "source": [
    "# TWO SCENARIOS: \n",
    "* Option 1: google colab / google drive\n",
    "* Option 2: running locally with local copy of data"
   ]
  },
  {
   "cell_type": "markdown",
   "metadata": {},
   "source": [
    "# Option 1: You are running on google colab/ google drive\n",
    "Run these commands if running from Google colab / google drive\n",
    "Skip this block if you have downloaded the data to run locally"
   ]
  },
  {
   "cell_type": "markdown",
   "metadata": {},
   "source": [
    "\n",
    "I previously did these steps (one time):\n",
    "*   downloaded the 3 data files from  to my home PC\n",
    "*   uploaded the 3 data files to my google drive\n",
    "*   used the 'share links' functionality from Google drive in chrome browser to find the 3 file IDs below\n"
   ]
  },
  {
   "cell_type": "code",
   "execution_count": null,
   "metadata": {
    "executionInfo": {
     "elapsed": 286,
     "status": "ok",
     "timestamp": 1613507285567,
     "user": {
      "displayName": "MarkT",
      "photoUrl": "https://lh6.googleusercontent.com/-V1tAr0Wo2HY/AAAAAAAAAAI/AAAAAAAACxs/U3ijszpAPJc/s64/photo.jpg",
      "userId": "05951859285137718821"
     },
     "user_tz": 480
    },
    "id": "lobX6zQYiGDt"
   },
   "outputs": [],
   "source": [
    "# source:https://buomsoo-kim.github.io/colab/2018/04/16/Importing-files-from-Google-Drive-in-Google-Colab.md/\n",
    "#\n",
    "# !pip install pydrive\n",
    "# !pip install google-colab\n",
    "#\n",
    "from pydrive.auth import GoogleAuth\n",
    "from pydrive.drive import GoogleDrive\n",
    "from google.colab import auth\n",
    "from oauth2client.client import GoogleCredentials\n",
    "#\n",
    "# may need to follow link to open google SDK authentication in browser and copy/paste a token\n",
    "auth.authenticate_user()\n",
    "gauth = GoogleAuth()\n",
    "gauth.credentials = GoogleCredentials.get_application_default()\n",
    "drive = GoogleDrive(gauth)\n",
    "#\n",
    "# share links:\n",
    "# https://drive.google.com/file/d/1z_SJEiPpCVKnqnFsicqdxYd3rahppURj/view?usp=sharing\n",
    "# https://drive.google.com/file/d/1eN5_fikV_jLMW6vd_9Hu6vpmrOpIhBMF/view?usp=sharing\n",
    "# https://drive.google.com/file/d/1fuYNNtUxF7DhaDT6AXZZ9DGRunfCb6aH/view?usp=sharing\n",
    "# \n",
    "# FileIDs\n",
    "myNpxFileId = \"1z_SJEiPpCVKnqnFsicqdxYd3rahppURj\"\n",
    "myInfoFileId = \"1eN5_fikV_jLMW6vd_9Hu6vpmrOpIhBMF\"\n",
    "myVarDescFileId = \"1fuYNNtUxF7DhaDT6AXZZ9DGRunfCb6aH\"\n"
   ]
  },
  {
   "cell_type": "code",
   "execution_count": null,
   "metadata": {},
   "outputs": [],
   "source": [
    "# instantiate/pull/populate NPX data file\n",
    "downloadedNpx = drive.CreateFile({'id':myNpxFileId}) \n",
    "downloadedNpx.GetContentFile(myNpxFile) \n",
    "dataNpx = pd.read_csv(myNpxFile,delimiter=\";\")"
   ]
  },
  {
   "cell_type": "code",
   "execution_count": null,
   "metadata": {},
   "outputs": [],
   "source": [
    "# load clinical info file\n",
    "downloadedInfo = drive.CreateFile({'id':myInfoFileId})   \n",
    "downloadedInfo.GetContentFile(myInfoFile) \n",
    "dataInfo = pd.read_csv(myInfoFile,delimiter=\";\")"
   ]
  },
  {
   "cell_type": "code",
   "execution_count": null,
   "metadata": {},
   "outputs": [],
   "source": [
    "# load variable description xlsx file\n",
    "downloadedVarDesc = drive.CreateFile({'id':myVarDescFileId})   \n",
    "downloadedVarDesc.GetContentFile(myVarDescFile) \n",
    "dataVarDesc = pd.read_excel(myVarDescFile)"
   ]
  },
  {
   "cell_type": "markdown",
   "metadata": {},
   "source": [
    "# Option 2: You are running with a local copy of the data\n",
    "Run these commands if running with a local copy of the data\n",
    "\n",
    "Assumes you have original data in 'raw/olink_data' subdirectory.  \n",
    "NOTE: data is ';' delimited."
   ]
  },
  {
   "cell_type": "code",
   "execution_count": 3,
   "metadata": {},
   "outputs": [],
   "source": [
    "myFilePath = \"olink_data/raw/\"\n",
    "dataNpx = pd.read_csv(myFilePath + myNpxFile,delimiter=\";\")"
   ]
  },
  {
   "cell_type": "code",
   "execution_count": 4,
   "metadata": {},
   "outputs": [],
   "source": [
    "dataInfo = pd.read_csv(myFilePath + myInfoFile,delimiter=\";\")"
   ]
  },
  {
   "cell_type": "code",
   "execution_count": 14,
   "metadata": {},
   "outputs": [
    {
     "name": "stdout",
     "output_type": "stream",
     "text": [
      "myFullVarPath:  olink_data/raw/variable_descriptions2.xlsx\n",
      "['variable descriptions']\n"
     ]
    },
    {
     "data": {
      "text/html": [
       "<div>\n",
       "<style scoped>\n",
       "    .dataframe tbody tr th:only-of-type {\n",
       "        vertical-align: middle;\n",
       "    }\n",
       "\n",
       "    .dataframe tbody tr th {\n",
       "        vertical-align: top;\n",
       "    }\n",
       "\n",
       "    .dataframe thead th {\n",
       "        text-align: right;\n",
       "    }\n",
       "</style>\n",
       "<table border=\"1\" class=\"dataframe\">\n",
       "  <thead>\n",
       "    <tr style=\"text-align: right;\">\n",
       "      <th></th>\n",
       "      <th>Variable</th>\n",
       "      <th>Description</th>\n",
       "    </tr>\n",
       "  </thead>\n",
       "  <tbody>\n",
       "    <tr>\n",
       "      <th>0</th>\n",
       "      <td>subject_id</td>\n",
       "      <td>Subject ID</td>\n",
       "    </tr>\n",
       "    <tr>\n",
       "      <th>1</th>\n",
       "      <td>COVID</td>\n",
       "      <td>COVID status (tested positive prior to enrollment or during hospitalization)    0 = negative    1= positive</td>\n",
       "    </tr>\n",
       "    <tr>\n",
       "      <th>2</th>\n",
       "      <td>Age cat</td>\n",
       "      <td>Age category    1 = 20-34    2 = 36-49    3 = 50-64    4 = 65-79    5 = 80+</td>\n",
       "    </tr>\n",
       "    <tr>\n",
       "      <th>3</th>\n",
       "      <td>BMI cat</td>\n",
       "      <td>Body mass index:    0 = &lt;18.5 (underweight)    1 = 18.5-24.9 (normal)    2 = 25.0-29.9 (overweight)    3 = 30.0-39.9 (obese)    4 = &gt;=40 (severely obese)    5 = Unknown</td>\n",
       "    </tr>\n",
       "    <tr>\n",
       "      <th>4</th>\n",
       "      <td>HEART</td>\n",
       "      <td>Pre-existing heart disease – HEART - (coronary artery disease, congestive heart failure, valvular disease)    0 = No    1 = Yes</td>\n",
       "    </tr>\n",
       "  </tbody>\n",
       "</table>\n",
       "</div>"
      ],
      "text/plain": [
       "     Variable  \\\n",
       "0  subject_id   \n",
       "1       COVID   \n",
       "2     Age cat   \n",
       "3     BMI cat   \n",
       "4       HEART   \n",
       "\n",
       "                                                                                                                                                                Description  \n",
       "0                                                                                                                                                                Subject ID  \n",
       "1                                                           COVID status (tested positive prior to enrollment or during hospitalization)    0 = negative    1= positive      \n",
       "2                                                                                           Age category    1 = 20-34    2 = 36-49    3 = 50-64    4 = 65-79    5 = 80+      \n",
       "3  Body mass index:    0 = <18.5 (underweight)    1 = 18.5-24.9 (normal)    2 = 25.0-29.9 (overweight)    3 = 30.0-39.9 (obese)    4 = >=40 (severely obese)    5 = Unknown  \n",
       "4                                       Pre-existing heart disease – HEART - (coronary artery disease, congestive heart failure, valvular disease)    0 = No    1 = Yes      "
      ]
     },
     "execution_count": 14,
     "metadata": {},
     "output_type": "execute_result"
    }
   ],
   "source": [
    "# !pip install openpyxl\n",
    "from openpyxl import load_workbook\n",
    "# TODO: remove this (hack due to sharing issue on windows 10)\n",
    "myVarDescFile = \"variable_descriptions2.xlsx\"\n",
    "myFullVarPath = myFilePath + myVarDescFile\n",
    "print(\"myFullVarPath: \",myFullVarPath)\n",
    "xl = pd.ExcelFile(myFullVarPath)\n",
    "print(xl.sheet_names)\n",
    "dataVarDesc = xl.parse(xl.sheet_names[0])\n",
    "dataVarDesc.head()"
   ]
  },
  {
   "cell_type": "markdown",
   "metadata": {},
   "source": [
    "# Initial exploration of the data"
   ]
  },
  {
   "cell_type": "code",
   "execution_count": 15,
   "metadata": {
    "colab": {
     "base_uri": "https://localhost:8080/",
     "height": 603
    },
    "executionInfo": {
     "elapsed": 29227,
     "status": "ok",
     "timestamp": 1613496304266,
     "user": {
      "displayName": "MarkT",
      "photoUrl": "https://lh6.googleusercontent.com/-V1tAr0Wo2HY/AAAAAAAAAAI/AAAAAAAACxs/U3ijszpAPJc/s64/photo.jpg",
      "userId": "05951859285137718821"
     },
     "user_tz": 480
    },
    "id": "Ok_Nppwa90Ze",
    "outputId": "d7314aed-3dfa-46a5-a9ee-f81e4aae8a39"
   },
   "outputs": [
    {
     "name": "stdout",
     "output_type": "stream",
     "text": [
      "# elements:  16084824\n",
      "dimensions: \n",
      "    rows:  1148916\n",
      "    cols:  14\n",
      "column names and datatypes: \n",
      "     SampleID  :  object\n",
      "     subject_id  :  float64\n",
      "     Timepoint  :  object\n",
      "     Index  :  int64\n",
      "     OlinkID  :  object\n",
      "     UniProt  :  object\n",
      "     Assay  :  object\n",
      "     MissingFreq  :  float64\n",
      "     Panel  :  object\n",
      "     Panel_Version  :  int64\n",
      "     PlateID  :  object\n",
      "     QC_Warning  :  object\n",
      "     LOD  :  float64\n",
      "     NPX  :  float64\n"
     ]
    },
    {
     "data": {
      "text/html": [
       "<div>\n",
       "<style scoped>\n",
       "    .dataframe tbody tr th:only-of-type {\n",
       "        vertical-align: middle;\n",
       "    }\n",
       "\n",
       "    .dataframe tbody tr th {\n",
       "        vertical-align: top;\n",
       "    }\n",
       "\n",
       "    .dataframe thead th {\n",
       "        text-align: right;\n",
       "    }\n",
       "</style>\n",
       "<table border=\"1\" class=\"dataframe\">\n",
       "  <thead>\n",
       "    <tr style=\"text-align: right;\">\n",
       "      <th></th>\n",
       "      <th>subject_id</th>\n",
       "      <th>Index</th>\n",
       "      <th>MissingFreq</th>\n",
       "      <th>Panel_Version</th>\n",
       "      <th>LOD</th>\n",
       "      <th>NPX</th>\n",
       "    </tr>\n",
       "  </thead>\n",
       "  <tbody>\n",
       "    <tr>\n",
       "      <th>count</th>\n",
       "      <td>1.120336e+06</td>\n",
       "      <td>1.148916e+06</td>\n",
       "      <td>1.148916e+06</td>\n",
       "      <td>1148916.0</td>\n",
       "      <td>1.148916e+06</td>\n",
       "      <td>1.148898e+06</td>\n",
       "    </tr>\n",
       "    <tr>\n",
       "      <th>mean</th>\n",
       "      <td>1.973839e+02</td>\n",
       "      <td>4.598383e+01</td>\n",
       "      <td>2.133310e-01</td>\n",
       "      <td>1.0</td>\n",
       "      <td>8.087463e-01</td>\n",
       "      <td>2.934964e+00</td>\n",
       "    </tr>\n",
       "    <tr>\n",
       "      <th>std</th>\n",
       "      <td>1.137254e+02</td>\n",
       "      <td>2.742623e+01</td>\n",
       "      <td>3.021994e-01</td>\n",
       "      <td>0.0</td>\n",
       "      <td>8.008172e-01</td>\n",
       "      <td>2.084241e+00</td>\n",
       "    </tr>\n",
       "    <tr>\n",
       "      <th>min</th>\n",
       "      <td>1.000000e+00</td>\n",
       "      <td>1.000000e+00</td>\n",
       "      <td>3.000000e-02</td>\n",
       "      <td>1.0</td>\n",
       "      <td>-1.056700e+00</td>\n",
       "      <td>-7.512100e+00</td>\n",
       "    </tr>\n",
       "    <tr>\n",
       "      <th>25%</th>\n",
       "      <td>9.800000e+01</td>\n",
       "      <td>2.200000e+01</td>\n",
       "      <td>3.000000e-02</td>\n",
       "      <td>1.0</td>\n",
       "      <td>3.159000e-01</td>\n",
       "      <td>1.270100e+00</td>\n",
       "    </tr>\n",
       "    <tr>\n",
       "      <th>50%</th>\n",
       "      <td>1.970000e+02</td>\n",
       "      <td>4.500000e+01</td>\n",
       "      <td>4.000000e-02</td>\n",
       "      <td>1.0</td>\n",
       "      <td>6.776000e-01</td>\n",
       "      <td>2.747600e+00</td>\n",
       "    </tr>\n",
       "    <tr>\n",
       "      <th>75%</th>\n",
       "      <td>3.000000e+02</td>\n",
       "      <td>6.900000e+01</td>\n",
       "      <td>2.500000e-01</td>\n",
       "      <td>1.0</td>\n",
       "      <td>1.098800e+00</td>\n",
       "      <td>4.361200e+00</td>\n",
       "    </tr>\n",
       "    <tr>\n",
       "      <th>max</th>\n",
       "      <td>3.860000e+02</td>\n",
       "      <td>9.400000e+01</td>\n",
       "      <td>9.900000e-01</td>\n",
       "      <td>1.0</td>\n",
       "      <td>5.826600e+00</td>\n",
       "      <td>1.572680e+01</td>\n",
       "    </tr>\n",
       "  </tbody>\n",
       "</table>\n",
       "</div>"
      ],
      "text/plain": [
       "         subject_id         Index   MissingFreq  Panel_Version           LOD  \\\n",
       "count  1.120336e+06  1.148916e+06  1.148916e+06      1148916.0  1.148916e+06   \n",
       "mean   1.973839e+02  4.598383e+01  2.133310e-01            1.0  8.087463e-01   \n",
       "std    1.137254e+02  2.742623e+01  3.021994e-01            0.0  8.008172e-01   \n",
       "min    1.000000e+00  1.000000e+00  3.000000e-02            1.0 -1.056700e+00   \n",
       "25%    9.800000e+01  2.200000e+01  3.000000e-02            1.0  3.159000e-01   \n",
       "50%    1.970000e+02  4.500000e+01  4.000000e-02            1.0  6.776000e-01   \n",
       "75%    3.000000e+02  6.900000e+01  2.500000e-01            1.0  1.098800e+00   \n",
       "max    3.860000e+02  9.400000e+01  9.900000e-01            1.0  5.826600e+00   \n",
       "\n",
       "                NPX  \n",
       "count  1.148898e+06  \n",
       "mean   2.934964e+00  \n",
       "std    2.084241e+00  \n",
       "min   -7.512100e+00  \n",
       "25%    1.270100e+00  \n",
       "50%    2.747600e+00  \n",
       "75%    4.361200e+00  \n",
       "max    1.572680e+01  "
      ]
     },
     "execution_count": 15,
     "metadata": {},
     "output_type": "execute_result"
    }
   ],
   "source": [
    "# initial exploration of the the NPX data \n",
    "print(\"# elements: \",dataNpx.size)\n",
    "print(\"dimensions: \")\n",
    "print(\"    rows: \", dataNpx.shape[0])\n",
    "print(\"    cols: \", dataNpx.shape[1])\n",
    "print(\"column names and datatypes: \")\n",
    "for index, value in dataNpx.dtypes.items():\n",
    "  print(\"    \", index, \" : \", value)\n",
    "dataNpx.head()\n",
    "dataNpx.describe()"
   ]
  },
  {
   "cell_type": "code",
   "execution_count": 16,
   "metadata": {
    "colab": {
     "base_uri": "https://localhost:8080/",
     "height": 1000
    },
    "executionInfo": {
     "elapsed": 30422,
     "status": "ok",
     "timestamp": 1613496305473,
     "user": {
      "displayName": "MarkT",
      "photoUrl": "https://lh6.googleusercontent.com/-V1tAr0Wo2HY/AAAAAAAAAAI/AAAAAAAACxs/U3ijszpAPJc/s64/photo.jpg",
      "userId": "05951859285137718821"
     },
     "user_tz": 480
    },
    "id": "tCLRvqPrBZAf",
    "outputId": "3b8caacb-2274-4b2a-e02b-6e554f97df5b"
   },
   "outputs": [
    {
     "name": "stdout",
     "output_type": "stream",
     "text": [
      "# elements:  15360\n",
      "dimensions: \n",
      "    rows:  384\n",
      "    cols:  40\n",
      "column names and datatypes: \n",
      "     subject_id  :  int64\n",
      "     COVID  :  int64\n",
      "     Age cat  :  int64\n",
      "     BMI cat  :  int64\n",
      "     HEART  :  int64\n",
      "     LUNG  :  int64\n",
      "     KIDNEY  :  int64\n",
      "     DIABETES  :  int64\n",
      "     HTN  :  int64\n",
      "     IMMUNO  :  int64\n",
      "     Resp_Symp  :  int64\n",
      "     Fever_Sympt  :  int64\n",
      "     GI_Symp  :  int64\n",
      "     WHO 0  :  int64\n",
      "     WHO 3  :  int64\n",
      "     WHO 7  :  int64\n",
      "     WHO 28  :  int64\n",
      "     WHO max  :  int64\n",
      "     abs_neut_0_cat  :  float64\n",
      "     abs_lymph_0_cat  :  float64\n",
      "     abs_mono_0_cat  :  float64\n",
      "     creat_0_cat  :  float64\n",
      "     crp_0_cat  :  float64\n",
      "     ddimer_0_cat  :  float64\n",
      "     ldh_0_cat  :  float64\n",
      "     Trop_72h  :  int64\n",
      "     abs_neut_3_cat  :  float64\n",
      "     abs_lymph_3_cat  :  float64\n",
      "     abs_mono_3_cat  :  float64\n",
      "     creat_3_cat  :  float64\n",
      "     crp_3_cat  :  float64\n",
      "     ddimer_3_cat  :  float64\n",
      "     ldh_3_cat  :  float64\n",
      "     abs_neut_7_cat  :  float64\n",
      "     abs_lymph_7_cat  :  float64\n",
      "     abs_mono_7_cat  :  float64\n",
      "     creat_7_cat  :  float64\n",
      "     crp_7_cat  :  float64\n",
      "     ddimer_7_cat  :  float64\n",
      "     ldh_7_cat  :  float64\n"
     ]
    },
    {
     "data": {
      "text/html": [
       "<div>\n",
       "<style scoped>\n",
       "    .dataframe tbody tr th:only-of-type {\n",
       "        vertical-align: middle;\n",
       "    }\n",
       "\n",
       "    .dataframe tbody tr th {\n",
       "        vertical-align: top;\n",
       "    }\n",
       "\n",
       "    .dataframe thead th {\n",
       "        text-align: right;\n",
       "    }\n",
       "</style>\n",
       "<table border=\"1\" class=\"dataframe\">\n",
       "  <thead>\n",
       "    <tr style=\"text-align: right;\">\n",
       "      <th></th>\n",
       "      <th>subject_id</th>\n",
       "      <th>COVID</th>\n",
       "      <th>Age cat</th>\n",
       "      <th>BMI cat</th>\n",
       "      <th>HEART</th>\n",
       "      <th>LUNG</th>\n",
       "      <th>KIDNEY</th>\n",
       "      <th>DIABETES</th>\n",
       "      <th>HTN</th>\n",
       "      <th>IMMUNO</th>\n",
       "      <th>...</th>\n",
       "      <th>crp_3_cat</th>\n",
       "      <th>ddimer_3_cat</th>\n",
       "      <th>ldh_3_cat</th>\n",
       "      <th>abs_neut_7_cat</th>\n",
       "      <th>abs_lymph_7_cat</th>\n",
       "      <th>abs_mono_7_cat</th>\n",
       "      <th>creat_7_cat</th>\n",
       "      <th>crp_7_cat</th>\n",
       "      <th>ddimer_7_cat</th>\n",
       "      <th>ldh_7_cat</th>\n",
       "    </tr>\n",
       "  </thead>\n",
       "  <tbody>\n",
       "    <tr>\n",
       "      <th>count</th>\n",
       "      <td>384.000000</td>\n",
       "      <td>384.000000</td>\n",
       "      <td>384.000000</td>\n",
       "      <td>384.000000</td>\n",
       "      <td>384.000000</td>\n",
       "      <td>384.000000</td>\n",
       "      <td>384.000000</td>\n",
       "      <td>384.000000</td>\n",
       "      <td>384.000000</td>\n",
       "      <td>384.000000</td>\n",
       "      <td>...</td>\n",
       "      <td>228.000000</td>\n",
       "      <td>209.000000</td>\n",
       "      <td>193.000000</td>\n",
       "      <td>179.000000</td>\n",
       "      <td>178.000000</td>\n",
       "      <td>178.000000</td>\n",
       "      <td>191.000000</td>\n",
       "      <td>144.000000</td>\n",
       "      <td>133.000000</td>\n",
       "      <td>115.000000</td>\n",
       "    </tr>\n",
       "    <tr>\n",
       "      <th>mean</th>\n",
       "      <td>193.330729</td>\n",
       "      <td>0.796875</td>\n",
       "      <td>3.218750</td>\n",
       "      <td>2.479167</td>\n",
       "      <td>0.184896</td>\n",
       "      <td>0.276042</td>\n",
       "      <td>0.158854</td>\n",
       "      <td>0.361979</td>\n",
       "      <td>0.518229</td>\n",
       "      <td>0.109375</td>\n",
       "      <td>...</td>\n",
       "      <td>3.390351</td>\n",
       "      <td>2.894737</td>\n",
       "      <td>2.834197</td>\n",
       "      <td>3.039106</td>\n",
       "      <td>3.044944</td>\n",
       "      <td>3.084270</td>\n",
       "      <td>2.094241</td>\n",
       "      <td>3.215278</td>\n",
       "      <td>3.428571</td>\n",
       "      <td>2.834783</td>\n",
       "    </tr>\n",
       "    <tr>\n",
       "      <th>std</th>\n",
       "      <td>111.795820</td>\n",
       "      <td>0.402850</td>\n",
       "      <td>1.206623</td>\n",
       "      <td>1.151493</td>\n",
       "      <td>0.388720</td>\n",
       "      <td>0.447621</td>\n",
       "      <td>0.366017</td>\n",
       "      <td>0.481200</td>\n",
       "      <td>0.500319</td>\n",
       "      <td>0.312516</td>\n",
       "      <td>...</td>\n",
       "      <td>1.317886</td>\n",
       "      <td>1.018304</td>\n",
       "      <td>1.209111</td>\n",
       "      <td>0.863512</td>\n",
       "      <td>1.229672</td>\n",
       "      <td>1.270562</td>\n",
       "      <td>1.214612</td>\n",
       "      <td>1.364706</td>\n",
       "      <td>1.102928</td>\n",
       "      <td>1.025383</td>\n",
       "    </tr>\n",
       "    <tr>\n",
       "      <th>min</th>\n",
       "      <td>1.000000</td>\n",
       "      <td>0.000000</td>\n",
       "      <td>1.000000</td>\n",
       "      <td>0.000000</td>\n",
       "      <td>0.000000</td>\n",
       "      <td>0.000000</td>\n",
       "      <td>0.000000</td>\n",
       "      <td>0.000000</td>\n",
       "      <td>0.000000</td>\n",
       "      <td>0.000000</td>\n",
       "      <td>...</td>\n",
       "      <td>1.000000</td>\n",
       "      <td>1.000000</td>\n",
       "      <td>1.000000</td>\n",
       "      <td>1.000000</td>\n",
       "      <td>1.000000</td>\n",
       "      <td>1.000000</td>\n",
       "      <td>1.000000</td>\n",
       "      <td>1.000000</td>\n",
       "      <td>1.000000</td>\n",
       "      <td>1.000000</td>\n",
       "    </tr>\n",
       "    <tr>\n",
       "      <th>25%</th>\n",
       "      <td>96.750000</td>\n",
       "      <td>1.000000</td>\n",
       "      <td>2.000000</td>\n",
       "      <td>2.000000</td>\n",
       "      <td>0.000000</td>\n",
       "      <td>0.000000</td>\n",
       "      <td>0.000000</td>\n",
       "      <td>0.000000</td>\n",
       "      <td>0.000000</td>\n",
       "      <td>0.000000</td>\n",
       "      <td>...</td>\n",
       "      <td>2.000000</td>\n",
       "      <td>2.000000</td>\n",
       "      <td>2.000000</td>\n",
       "      <td>2.000000</td>\n",
       "      <td>2.000000</td>\n",
       "      <td>2.000000</td>\n",
       "      <td>1.000000</td>\n",
       "      <td>2.000000</td>\n",
       "      <td>3.000000</td>\n",
       "      <td>2.000000</td>\n",
       "    </tr>\n",
       "    <tr>\n",
       "      <th>50%</th>\n",
       "      <td>193.500000</td>\n",
       "      <td>1.000000</td>\n",
       "      <td>3.000000</td>\n",
       "      <td>2.000000</td>\n",
       "      <td>0.000000</td>\n",
       "      <td>0.000000</td>\n",
       "      <td>0.000000</td>\n",
       "      <td>0.000000</td>\n",
       "      <td>1.000000</td>\n",
       "      <td>0.000000</td>\n",
       "      <td>...</td>\n",
       "      <td>4.000000</td>\n",
       "      <td>3.000000</td>\n",
       "      <td>3.000000</td>\n",
       "      <td>3.000000</td>\n",
       "      <td>3.000000</td>\n",
       "      <td>3.000000</td>\n",
       "      <td>2.000000</td>\n",
       "      <td>3.000000</td>\n",
       "      <td>3.000000</td>\n",
       "      <td>3.000000</td>\n",
       "    </tr>\n",
       "    <tr>\n",
       "      <th>75%</th>\n",
       "      <td>290.250000</td>\n",
       "      <td>1.000000</td>\n",
       "      <td>4.000000</td>\n",
       "      <td>3.000000</td>\n",
       "      <td>0.000000</td>\n",
       "      <td>1.000000</td>\n",
       "      <td>0.000000</td>\n",
       "      <td>1.000000</td>\n",
       "      <td>1.000000</td>\n",
       "      <td>0.000000</td>\n",
       "      <td>...</td>\n",
       "      <td>4.000000</td>\n",
       "      <td>4.000000</td>\n",
       "      <td>4.000000</td>\n",
       "      <td>4.000000</td>\n",
       "      <td>4.000000</td>\n",
       "      <td>4.000000</td>\n",
       "      <td>3.000000</td>\n",
       "      <td>4.000000</td>\n",
       "      <td>4.000000</td>\n",
       "      <td>3.000000</td>\n",
       "    </tr>\n",
       "    <tr>\n",
       "      <th>max</th>\n",
       "      <td>386.000000</td>\n",
       "      <td>1.000000</td>\n",
       "      <td>5.000000</td>\n",
       "      <td>5.000000</td>\n",
       "      <td>1.000000</td>\n",
       "      <td>1.000000</td>\n",
       "      <td>1.000000</td>\n",
       "      <td>1.000000</td>\n",
       "      <td>1.000000</td>\n",
       "      <td>1.000000</td>\n",
       "      <td>...</td>\n",
       "      <td>5.000000</td>\n",
       "      <td>5.000000</td>\n",
       "      <td>5.000000</td>\n",
       "      <td>5.000000</td>\n",
       "      <td>5.000000</td>\n",
       "      <td>5.000000</td>\n",
       "      <td>5.000000</td>\n",
       "      <td>5.000000</td>\n",
       "      <td>5.000000</td>\n",
       "      <td>5.000000</td>\n",
       "    </tr>\n",
       "  </tbody>\n",
       "</table>\n",
       "<p>8 rows × 40 columns</p>\n",
       "</div>"
      ],
      "text/plain": [
       "       subject_id       COVID     Age cat     BMI cat       HEART        LUNG  \\\n",
       "count  384.000000  384.000000  384.000000  384.000000  384.000000  384.000000   \n",
       "mean   193.330729    0.796875    3.218750    2.479167    0.184896    0.276042   \n",
       "std    111.795820    0.402850    1.206623    1.151493    0.388720    0.447621   \n",
       "min      1.000000    0.000000    1.000000    0.000000    0.000000    0.000000   \n",
       "25%     96.750000    1.000000    2.000000    2.000000    0.000000    0.000000   \n",
       "50%    193.500000    1.000000    3.000000    2.000000    0.000000    0.000000   \n",
       "75%    290.250000    1.000000    4.000000    3.000000    0.000000    1.000000   \n",
       "max    386.000000    1.000000    5.000000    5.000000    1.000000    1.000000   \n",
       "\n",
       "           KIDNEY    DIABETES         HTN      IMMUNO  ...   crp_3_cat  \\\n",
       "count  384.000000  384.000000  384.000000  384.000000  ...  228.000000   \n",
       "mean     0.158854    0.361979    0.518229    0.109375  ...    3.390351   \n",
       "std      0.366017    0.481200    0.500319    0.312516  ...    1.317886   \n",
       "min      0.000000    0.000000    0.000000    0.000000  ...    1.000000   \n",
       "25%      0.000000    0.000000    0.000000    0.000000  ...    2.000000   \n",
       "50%      0.000000    0.000000    1.000000    0.000000  ...    4.000000   \n",
       "75%      0.000000    1.000000    1.000000    0.000000  ...    4.000000   \n",
       "max      1.000000    1.000000    1.000000    1.000000  ...    5.000000   \n",
       "\n",
       "       ddimer_3_cat   ldh_3_cat  abs_neut_7_cat  abs_lymph_7_cat  \\\n",
       "count    209.000000  193.000000      179.000000       178.000000   \n",
       "mean       2.894737    2.834197        3.039106         3.044944   \n",
       "std        1.018304    1.209111        0.863512         1.229672   \n",
       "min        1.000000    1.000000        1.000000         1.000000   \n",
       "25%        2.000000    2.000000        2.000000         2.000000   \n",
       "50%        3.000000    3.000000        3.000000         3.000000   \n",
       "75%        4.000000    4.000000        4.000000         4.000000   \n",
       "max        5.000000    5.000000        5.000000         5.000000   \n",
       "\n",
       "       abs_mono_7_cat  creat_7_cat   crp_7_cat  ddimer_7_cat   ldh_7_cat  \n",
       "count      178.000000   191.000000  144.000000    133.000000  115.000000  \n",
       "mean         3.084270     2.094241    3.215278      3.428571    2.834783  \n",
       "std          1.270562     1.214612    1.364706      1.102928    1.025383  \n",
       "min          1.000000     1.000000    1.000000      1.000000    1.000000  \n",
       "25%          2.000000     1.000000    2.000000      3.000000    2.000000  \n",
       "50%          3.000000     2.000000    3.000000      3.000000    3.000000  \n",
       "75%          4.000000     3.000000    4.000000      4.000000    3.000000  \n",
       "max          5.000000     5.000000    5.000000      5.000000    5.000000  \n",
       "\n",
       "[8 rows x 40 columns]"
      ]
     },
     "execution_count": 16,
     "metadata": {},
     "output_type": "execute_result"
    }
   ],
   "source": [
    "# initial exploration of the clinical info data \n",
    "print(\"# elements: \",dataInfo.size)\n",
    "print(\"dimensions: \")\n",
    "print(\"    rows: \", dataInfo.shape[0])\n",
    "print(\"    cols: \", dataInfo.shape[1])\n",
    "print(\"column names and datatypes: \")\n",
    "for index, value in dataInfo.dtypes.items():\n",
    "  print(\"    \", index, \" : \", value)\n",
    "dataInfo.head()\n",
    "dataInfo.describe()"
   ]
  },
  {
   "cell_type": "code",
   "execution_count": 17,
   "metadata": {},
   "outputs": [
    {
     "data": {
      "text/html": [
       "<div>\n",
       "<style scoped>\n",
       "    .dataframe tbody tr th:only-of-type {\n",
       "        vertical-align: middle;\n",
       "    }\n",
       "\n",
       "    .dataframe tbody tr th {\n",
       "        vertical-align: top;\n",
       "    }\n",
       "\n",
       "    .dataframe thead th {\n",
       "        text-align: right;\n",
       "    }\n",
       "</style>\n",
       "<table border=\"1\" class=\"dataframe\">\n",
       "  <thead>\n",
       "    <tr style=\"text-align: right;\">\n",
       "      <th></th>\n",
       "      <th>Variable</th>\n",
       "      <th>Description</th>\n",
       "    </tr>\n",
       "  </thead>\n",
       "  <tbody>\n",
       "    <tr>\n",
       "      <th>0</th>\n",
       "      <td>subject_id</td>\n",
       "      <td>Subject ID</td>\n",
       "    </tr>\n",
       "    <tr>\n",
       "      <th>1</th>\n",
       "      <td>COVID</td>\n",
       "      <td>COVID status (tested positive prior to enrollment or during hospitalization)    0 = negative    1= positive</td>\n",
       "    </tr>\n",
       "    <tr>\n",
       "      <th>2</th>\n",
       "      <td>Age cat</td>\n",
       "      <td>Age category    1 = 20-34    2 = 36-49    3 = 50-64    4 = 65-79    5 = 80+</td>\n",
       "    </tr>\n",
       "    <tr>\n",
       "      <th>3</th>\n",
       "      <td>BMI cat</td>\n",
       "      <td>Body mass index:    0 = &lt;18.5 (underweight)    1 = 18.5-24.9 (normal)    2 = 25.0-29.9 (overweight)    3 = 30.0-39.9 (obese)    4 = &gt;=40 (severely obese)    5 = Unknown</td>\n",
       "    </tr>\n",
       "    <tr>\n",
       "      <th>4</th>\n",
       "      <td>HEART</td>\n",
       "      <td>Pre-existing heart disease – HEART - (coronary artery disease, congestive heart failure, valvular disease)    0 = No    1 = Yes</td>\n",
       "    </tr>\n",
       "    <tr>\n",
       "      <th>5</th>\n",
       "      <td>LUNG</td>\n",
       "      <td>Pre-existing lung disease – LUNG - (asthma, COPD, requiring home O2, any chronic lung condition)    0 = No    1 = Yes</td>\n",
       "    </tr>\n",
       "    <tr>\n",
       "      <th>6</th>\n",
       "      <td>KIDNEY</td>\n",
       "      <td>Pre-existing kidney disease – KIDNEY - (chronic kidney disease, baseline creatinine &gt;1.5, ESRD)    0 = No    1 = Yes</td>\n",
       "    </tr>\n",
       "    <tr>\n",
       "      <th>7</th>\n",
       "      <td>DIABETES</td>\n",
       "      <td>Pre-existing diabetes – DIABETES - (pre-diabetes, insulin and non-insulin dependent diabetes)    0 = No    1 = Yes</td>\n",
       "    </tr>\n",
       "    <tr>\n",
       "      <th>8</th>\n",
       "      <td>HTN</td>\n",
       "      <td>Pre-existing hypertension - HTN    0 = No    1 = Yes</td>\n",
       "    </tr>\n",
       "    <tr>\n",
       "      <th>9</th>\n",
       "      <td>IMMUNO</td>\n",
       "      <td>Pre-existing immunocompromised condition – IMMUNO (active cancer, chemotherapy, transplant, immunosuppressant agents, aspenic)    0 = No    1 = Yes</td>\n",
       "    </tr>\n",
       "    <tr>\n",
       "      <th>10</th>\n",
       "      <td>Resp_Symp</td>\n",
       "      <td>Respiratory symptoms – Symp_Resp (sore throat, congestion, productive or dry cough, shortness of breath or hypoxia, or chest pain)    0 = No    1 = Yes</td>\n",
       "    </tr>\n",
       "    <tr>\n",
       "      <th>11</th>\n",
       "      <td>Fever_Sympt</td>\n",
       "      <td>Febrile symptom</td>\n",
       "    </tr>\n",
       "    <tr>\n",
       "      <th>12</th>\n",
       "      <td>GI_Symp</td>\n",
       "      <td>Any GI related symptoms at presentation (abdominal pain, nausea, vomiting, diarrhea)</td>\n",
       "    </tr>\n",
       "    <tr>\n",
       "      <th>13</th>\n",
       "      <td>WHO 0</td>\n",
       "      <td>WHO score for day 0 study window - enrollment plus 24 hours    1 = Death within 28 days    2 = Intubated, ventilated, survived to 28 days    3 = Non-invasive ventilation or high-flow nasal cannula    4 = Hospitalized, supplementary O2 required    5 = Hospitalized, no supplementary O2 required    6 = Not hospitalized</td>\n",
       "    </tr>\n",
       "    <tr>\n",
       "      <th>14</th>\n",
       "      <td>WHO 3</td>\n",
       "      <td>WHO score for day 3 study window    1 = Death within 28 days    2 = Intubated, ventilated, survived to 28 days    3 = Non-invasive ventilation or high-flow nasal cannula    4 = Hospitalized, supplementary O2 required    5 = Hospitalized, no supplementary O2 required    6 = Not hospitalized</td>\n",
       "    </tr>\n",
       "    <tr>\n",
       "      <th>15</th>\n",
       "      <td>WHO 7</td>\n",
       "      <td>WHO score for day 7 study window    1 = Death within 28 days    2 = Intubated, ventilated, survived to 28 days    3 = Non-invasive ventilation or high-flow nasal cannula    4 = Hospitalized, supplementary O2 required    5 = Hospitalized, no supplementary O2 required    6 = Not hospitalized</td>\n",
       "    </tr>\n",
       "    <tr>\n",
       "      <th>16</th>\n",
       "      <td>WHO 28</td>\n",
       "      <td>WHO score on study day 28    1 = Death within 28 days    2 = Intubated, ventilated, survived to 28 days    3 = Non-invasive ventilation or high-flow nasal cannula    4 = Hospitalized, supplementary O2 required    5 = Hospitalized, no supplementary O2 required    6 = Not hospitalized</td>\n",
       "    </tr>\n",
       "    <tr>\n",
       "      <th>17</th>\n",
       "      <td>WHO max</td>\n",
       "      <td>WHO max category at 28 days (maximum WHO score within first 28 days with death being the maximum possible)    1 = Death within 28 days    2 = Intubated, ventilated, survived to 28 days    3 = Non-invasive ventilation or high-flow nasal cannula    4 = Hospitalized, supplementary O2 required    5 = Hospitalized, no supplementary O2 required    6 = Not hospitalized</td>\n",
       "    </tr>\n",
       "    <tr>\n",
       "      <th>18</th>\n",
       "      <td>abs_neut_0_cat</td>\n",
       "      <td>Absulute neutrophil count day 0 category:    1 = 0-0.99    2 = 1.0-3.99    3 = 4.0-7.99    4 = 8.0-11.99    5 = 12+</td>\n",
       "    </tr>\n",
       "    <tr>\n",
       "      <th>19</th>\n",
       "      <td>abs_lymph_0_cat</td>\n",
       "      <td>Absolute lymphocyte count day 0 category:    1 = 0-0.49    2 = 0.50-0.99    3 = 1.00-1.49    4 = 1.50-1.99    5 = 2+</td>\n",
       "    </tr>\n",
       "    <tr>\n",
       "      <th>20</th>\n",
       "      <td>abs_mono_0_cat</td>\n",
       "      <td>Absolute monocyte day 0 category    1 = 0-0.24    2 = 0.25-0.49    3 = 0.50-0.74    4 = 0.75-0.99    5 = 1.0+</td>\n",
       "    </tr>\n",
       "    <tr>\n",
       "      <th>21</th>\n",
       "      <td>creat_0_cat</td>\n",
       "      <td>Creatinine day 0 category    1 = 0-0.79    2 = 0.80-1.19    3 = 1.20-1.79    4 = 1.80-2.99    5 = 3+</td>\n",
       "    </tr>\n",
       "    <tr>\n",
       "      <th>22</th>\n",
       "      <td>crp_0_cat</td>\n",
       "      <td>c-reactive protein day 0 category:    1 = 0-19.9    2 = 20-59.0    3 = 60-99.9    4 = 100-179    5 = 180+</td>\n",
       "    </tr>\n",
       "    <tr>\n",
       "      <th>23</th>\n",
       "      <td>ddimer_0_cat</td>\n",
       "      <td>D-dimer  day 0 category:    1 = 0-499    2 = 500-999    3 = 1000-1999    4 = 2000-3999    5 = 4000+</td>\n",
       "    </tr>\n",
       "    <tr>\n",
       "      <th>24</th>\n",
       "      <td>ldh_0_cat</td>\n",
       "      <td>Lactate dehydrogenase day 0 category:    1 = 0-200    2 = 200-299    3 = 300-399    4 = 400-499    5 = 500+</td>\n",
       "    </tr>\n",
       "    <tr>\n",
       "      <th>25</th>\n",
       "      <td>Trop_72h</td>\n",
       "      <td>Cardiac event – Trop_72h - (hs-cTn =&gt;100 within first 72 hours of presentation)    0 = No    1 = Yes</td>\n",
       "    </tr>\n",
       "    <tr>\n",
       "      <th>26</th>\n",
       "      <td>abs_neut_3_cat</td>\n",
       "      <td>Absulute neutrophil count day 3 category:    1 = 0-0.99    2 = 1.0-3.99    3 = 4.0-7.99    4 = 8.0-11.99    5 = 12+</td>\n",
       "    </tr>\n",
       "    <tr>\n",
       "      <th>27</th>\n",
       "      <td>abs_lymph_3_cat</td>\n",
       "      <td>Absolute lymphocyte count day 3 category:    1 = 0-0.49    2 = 0.50-0.99    3 = 1.00-1.49    4 = 1.50-1.99    5 = 2+</td>\n",
       "    </tr>\n",
       "    <tr>\n",
       "      <th>28</th>\n",
       "      <td>abs_mono_3_cat</td>\n",
       "      <td>Absolute monocyte count day 3 category:    1 = 0-0.24    2 = 0.25-0.49    3 = 0.50-0.74    4 = 0.75-0.99    5 = 1.0+</td>\n",
       "    </tr>\n",
       "    <tr>\n",
       "      <th>29</th>\n",
       "      <td>creat_3_cat</td>\n",
       "      <td>Creatinine day 3 category    1 = 0-0.79    2 = 0.80-1.19    3 = 1.20-1.79    4 = 1.80-2.99    5 = 3+</td>\n",
       "    </tr>\n",
       "    <tr>\n",
       "      <th>30</th>\n",
       "      <td>crp_3_cat</td>\n",
       "      <td>c-reactive protein day 3 category:    1 = 0-19.9    2 = 20-59.0    3 = 60-99.9    4 = 100-179    5 = 180+</td>\n",
       "    </tr>\n",
       "    <tr>\n",
       "      <th>31</th>\n",
       "      <td>ddimer_3_cat</td>\n",
       "      <td>D-dimer  day 3 category:    1 = 0-499    2 = 500-999    3 = 1000-1999    4 = 2000-3999    5 = 4000+</td>\n",
       "    </tr>\n",
       "    <tr>\n",
       "      <th>32</th>\n",
       "      <td>ldh_3_cat</td>\n",
       "      <td>Lactate dehydrogenase day 3 category:    1 = 0-200    2 = 200-299    3 = 300-399    4 = 400-499    5 = 500+</td>\n",
       "    </tr>\n",
       "    <tr>\n",
       "      <th>33</th>\n",
       "      <td>abs_neut_7_cat</td>\n",
       "      <td>Absulute neutrophil count day 7 category:    1 = 0-0.99    2 = 1.0-3.99    3 = 4.0-7.99    4 = 8.0-11.99    5 = 12+</td>\n",
       "    </tr>\n",
       "    <tr>\n",
       "      <th>34</th>\n",
       "      <td>abs_lymph_7_cat</td>\n",
       "      <td>Absolute lymphocyte count day 7 category:    1 = 0-0.49    2 = 0.50-0.99    3 = 1.00-1.49    4 = 1.50-1.99    5 = 2+</td>\n",
       "    </tr>\n",
       "    <tr>\n",
       "      <th>35</th>\n",
       "      <td>abs_mono_7_cat</td>\n",
       "      <td>Absolute monocyte count day 7 category:    1 = 0-0.24    2 = 0.25-0.49    3 = 0.50-0.74    4 = 0.75-0.99    5 = 1.0+</td>\n",
       "    </tr>\n",
       "    <tr>\n",
       "      <th>36</th>\n",
       "      <td>creat_7_cat</td>\n",
       "      <td>Creatinine day 7 category    1 = 0-0.79    2 = 0.80-1.19    3 = 1.20-1.79    4 = 1.80-2.99    5 = 3+</td>\n",
       "    </tr>\n",
       "    <tr>\n",
       "      <th>37</th>\n",
       "      <td>crp_7_cat</td>\n",
       "      <td>c-reactive protein day 7 category:    1 = 0-19.9    2 = 20-59.0    3 = 60-99.9    4 = 100-179    5 = 180+</td>\n",
       "    </tr>\n",
       "    <tr>\n",
       "      <th>38</th>\n",
       "      <td>ddimer_7_cat</td>\n",
       "      <td>D-dimer  day 3 category:    1 = 0-499    2 = 500-999    3 = 1000-1999    4 = 2000-3999    5 = 4000+</td>\n",
       "    </tr>\n",
       "    <tr>\n",
       "      <th>39</th>\n",
       "      <td>ldh_7_cat</td>\n",
       "      <td>Lactate dehydrogenase day 7 category:    1 = 0-200    2 = 200-299    3 = 300-399    4 = 400-499    5 = 500+</td>\n",
       "    </tr>\n",
       "  </tbody>\n",
       "</table>\n",
       "</div>"
      ],
      "text/plain": [
       "           Variable  \\\n",
       "0        subject_id   \n",
       "1             COVID   \n",
       "2           Age cat   \n",
       "3           BMI cat   \n",
       "4             HEART   \n",
       "5              LUNG   \n",
       "6            KIDNEY   \n",
       "7          DIABETES   \n",
       "8               HTN   \n",
       "9            IMMUNO   \n",
       "10        Resp_Symp   \n",
       "11      Fever_Sympt   \n",
       "12          GI_Symp   \n",
       "13            WHO 0   \n",
       "14            WHO 3   \n",
       "15            WHO 7   \n",
       "16           WHO 28   \n",
       "17          WHO max   \n",
       "18   abs_neut_0_cat   \n",
       "19  abs_lymph_0_cat   \n",
       "20   abs_mono_0_cat   \n",
       "21      creat_0_cat   \n",
       "22        crp_0_cat   \n",
       "23     ddimer_0_cat   \n",
       "24        ldh_0_cat   \n",
       "25         Trop_72h   \n",
       "26   abs_neut_3_cat   \n",
       "27  abs_lymph_3_cat   \n",
       "28   abs_mono_3_cat   \n",
       "29      creat_3_cat   \n",
       "30        crp_3_cat   \n",
       "31     ddimer_3_cat   \n",
       "32        ldh_3_cat   \n",
       "33   abs_neut_7_cat   \n",
       "34  abs_lymph_7_cat   \n",
       "35   abs_mono_7_cat   \n",
       "36      creat_7_cat   \n",
       "37        crp_7_cat   \n",
       "38     ddimer_7_cat   \n",
       "39        ldh_7_cat   \n",
       "\n",
       "                                                                                                                                                                                                                                                                                                                                                                         Description  \n",
       "0                                                                                                                                                                                                                                                                                                                                                                         Subject ID  \n",
       "1                                                                                                                                                                                                                                                                    COVID status (tested positive prior to enrollment or during hospitalization)    0 = negative    1= positive      \n",
       "2                                                                                                                                                                                                                                                                                                    Age category    1 = 20-34    2 = 36-49    3 = 50-64    4 = 65-79    5 = 80+      \n",
       "3                                                                                                                                                                                                           Body mass index:    0 = <18.5 (underweight)    1 = 18.5-24.9 (normal)    2 = 25.0-29.9 (overweight)    3 = 30.0-39.9 (obese)    4 = >=40 (severely obese)    5 = Unknown  \n",
       "4                                                                                                                                                                                                                                                Pre-existing heart disease – HEART - (coronary artery disease, congestive heart failure, valvular disease)    0 = No    1 = Yes      \n",
       "5                                                                                                                                                                                                                                                          Pre-existing lung disease – LUNG - (asthma, COPD, requiring home O2, any chronic lung condition)    0 = No    1 = Yes      \n",
       "6                                                                                                                                                                                                                                                           Pre-existing kidney disease – KIDNEY - (chronic kidney disease, baseline creatinine >1.5, ESRD)    0 = No    1 = Yes      \n",
       "7                                                                                                                                                                                                                                                             Pre-existing diabetes – DIABETES - (pre-diabetes, insulin and non-insulin dependent diabetes)    0 = No    1 = Yes      \n",
       "8                                                                                                                                                                                                                                                                                                                           Pre-existing hypertension - HTN    0 = No    1 = Yes      \n",
       "9                                                                                                                                                                                                                            Pre-existing immunocompromised condition – IMMUNO (active cancer, chemotherapy, transplant, immunosuppressant agents, aspenic)    0 = No    1 = Yes      \n",
       "10                                                                                                                                                                                                                       Respiratory symptoms – Symp_Resp (sore throat, congestion, productive or dry cough, shortness of breath or hypoxia, or chest pain)    0 = No    1 = Yes      \n",
       "11                                                                                                                                                                                                                                                                                                                                                                   Febrile symptom  \n",
       "12                                                                                                                                                                                                                                                                                              Any GI related symptoms at presentation (abdominal pain, nausea, vomiting, diarrhea)  \n",
       "13                                                     WHO score for day 0 study window - enrollment plus 24 hours    1 = Death within 28 days    2 = Intubated, ventilated, survived to 28 days    3 = Non-invasive ventilation or high-flow nasal cannula    4 = Hospitalized, supplementary O2 required    5 = Hospitalized, no supplementary O2 required    6 = Not hospitalized  \n",
       "14                                                                                WHO score for day 3 study window    1 = Death within 28 days    2 = Intubated, ventilated, survived to 28 days    3 = Non-invasive ventilation or high-flow nasal cannula    4 = Hospitalized, supplementary O2 required    5 = Hospitalized, no supplementary O2 required    6 = Not hospitalized  \n",
       "15                                                                                WHO score for day 7 study window    1 = Death within 28 days    2 = Intubated, ventilated, survived to 28 days    3 = Non-invasive ventilation or high-flow nasal cannula    4 = Hospitalized, supplementary O2 required    5 = Hospitalized, no supplementary O2 required    6 = Not hospitalized  \n",
       "16                                                                                       WHO score on study day 28    1 = Death within 28 days    2 = Intubated, ventilated, survived to 28 days    3 = Non-invasive ventilation or high-flow nasal cannula    4 = Hospitalized, supplementary O2 required    5 = Hospitalized, no supplementary O2 required    6 = Not hospitalized  \n",
       "17  WHO max category at 28 days (maximum WHO score within first 28 days with death being the maximum possible)    1 = Death within 28 days    2 = Intubated, ventilated, survived to 28 days    3 = Non-invasive ventilation or high-flow nasal cannula    4 = Hospitalized, supplementary O2 required    5 = Hospitalized, no supplementary O2 required    6 = Not hospitalized      \n",
       "18                                                                                                                                                                                                                                                               Absulute neutrophil count day 0 category:    1 = 0-0.99    2 = 1.0-3.99    3 = 4.0-7.99    4 = 8.0-11.99    5 = 12+  \n",
       "19                                                                                                                                                                                                                                                          Absolute lymphocyte count day 0 category:    1 = 0-0.49    2 = 0.50-0.99    3 = 1.00-1.49    4 = 1.50-1.99    5 = 2+      \n",
       "20                                                                                                                                                                                                                                                                     Absolute monocyte day 0 category    1 = 0-0.24    2 = 0.25-0.49    3 = 0.50-0.74    4 = 0.75-0.99    5 = 1.0+  \n",
       "21                                                                                                                                                                                                                                                                              Creatinine day 0 category    1 = 0-0.79    2 = 0.80-1.19    3 = 1.20-1.79    4 = 1.80-2.99    5 = 3+  \n",
       "22                                                                                                                                                                                                                                                                         c-reactive protein day 0 category:    1 = 0-19.9    2 = 20-59.0    3 = 60-99.9    4 = 100-179    5 = 180+  \n",
       "23                                                                                                                                                                                                                                                                               D-dimer  day 0 category:    1 = 0-499    2 = 500-999    3 = 1000-1999    4 = 2000-3999    5 = 4000+  \n",
       "24                                                                                                                                                                                                                                                                       Lactate dehydrogenase day 0 category:    1 = 0-200    2 = 200-299    3 = 300-399    4 = 400-499    5 = 500+  \n",
       "25                                                                                                                                                                                                                                                                          Cardiac event – Trop_72h - (hs-cTn =>100 within first 72 hours of presentation)    0 = No    1 = Yes      \n",
       "26                                                                                                                                                                                                                                                               Absulute neutrophil count day 3 category:    1 = 0-0.99    2 = 1.0-3.99    3 = 4.0-7.99    4 = 8.0-11.99    5 = 12+  \n",
       "27                                                                                                                                                                                                                                                          Absolute lymphocyte count day 3 category:    1 = 0-0.49    2 = 0.50-0.99    3 = 1.00-1.49    4 = 1.50-1.99    5 = 2+      \n",
       "28                                                                                                                                                                                                                                                              Absolute monocyte count day 3 category:    1 = 0-0.24    2 = 0.25-0.49    3 = 0.50-0.74    4 = 0.75-0.99    5 = 1.0+  \n",
       "29                                                                                                                                                                                                                                                                              Creatinine day 3 category    1 = 0-0.79    2 = 0.80-1.19    3 = 1.20-1.79    4 = 1.80-2.99    5 = 3+  \n",
       "30                                                                                                                                                                                                                                                                         c-reactive protein day 3 category:    1 = 0-19.9    2 = 20-59.0    3 = 60-99.9    4 = 100-179    5 = 180+  \n",
       "31                                                                                                                                                                                                                                                                               D-dimer  day 3 category:    1 = 0-499    2 = 500-999    3 = 1000-1999    4 = 2000-3999    5 = 4000+  \n",
       "32                                                                                                                                                                                                                                                                       Lactate dehydrogenase day 3 category:    1 = 0-200    2 = 200-299    3 = 300-399    4 = 400-499    5 = 500+  \n",
       "33                                                                                                                                                                                                                                                           Absulute neutrophil count day 7 category:    1 = 0-0.99    2 = 1.0-3.99    3 = 4.0-7.99    4 = 8.0-11.99    5 = 12+      \n",
       "34                                                                                                                                                                                                                                                          Absolute lymphocyte count day 7 category:    1 = 0-0.49    2 = 0.50-0.99    3 = 1.00-1.49    4 = 1.50-1.99    5 = 2+      \n",
       "35                                                                                                                                                                                                                                                              Absolute monocyte count day 7 category:    1 = 0-0.24    2 = 0.25-0.49    3 = 0.50-0.74    4 = 0.75-0.99    5 = 1.0+  \n",
       "36                                                                                                                                                                                                                                                                              Creatinine day 7 category    1 = 0-0.79    2 = 0.80-1.19    3 = 1.20-1.79    4 = 1.80-2.99    5 = 3+  \n",
       "37                                                                                                                                                                                                                                                                         c-reactive protein day 7 category:    1 = 0-19.9    2 = 20-59.0    3 = 60-99.9    4 = 100-179    5 = 180+  \n",
       "38                                                                                                                                                                                                                                                                               D-dimer  day 3 category:    1 = 0-499    2 = 500-999    3 = 1000-1999    4 = 2000-3999    5 = 4000+  \n",
       "39                                                                                                                                                                                                                                                                       Lactate dehydrogenase day 7 category:    1 = 0-200    2 = 200-299    3 = 300-399    4 = 400-499    5 = 500+  "
      ]
     },
     "metadata": {},
     "output_type": "display_data"
    },
    {
     "data": {
      "text/html": [
       "<div>\n",
       "<style scoped>\n",
       "    .dataframe tbody tr th:only-of-type {\n",
       "        vertical-align: middle;\n",
       "    }\n",
       "\n",
       "    .dataframe tbody tr th {\n",
       "        vertical-align: top;\n",
       "    }\n",
       "\n",
       "    .dataframe thead th {\n",
       "        text-align: right;\n",
       "    }\n",
       "</style>\n",
       "<table border=\"1\" class=\"dataframe\">\n",
       "  <thead>\n",
       "    <tr style=\"text-align: right;\">\n",
       "      <th></th>\n",
       "      <th>Variable</th>\n",
       "      <th>Description</th>\n",
       "    </tr>\n",
       "  </thead>\n",
       "  <tbody>\n",
       "    <tr>\n",
       "      <th>0</th>\n",
       "      <td>subject_id</td>\n",
       "      <td>Subject ID</td>\n",
       "    </tr>\n",
       "    <tr>\n",
       "      <th>1</th>\n",
       "      <td>COVID</td>\n",
       "      <td>COVID status (tested positive prior to enrollment or during hospitalization)    0 = negative    1= positive</td>\n",
       "    </tr>\n",
       "    <tr>\n",
       "      <th>2</th>\n",
       "      <td>Age cat</td>\n",
       "      <td>Age category    1 = 20-34    2 = 36-49    3 = 50-64    4 = 65-79    5 = 80+</td>\n",
       "    </tr>\n",
       "    <tr>\n",
       "      <th>3</th>\n",
       "      <td>BMI cat</td>\n",
       "      <td>Body mass index:    0 = &lt;18.5 (underweight)    1 = 18.5-24.9 (normal)    2 = 25.0-29.9 (overweight)    3 = 30.0-39.9 (obese)    4 = &gt;=40 (severely obese)    5 = Unknown</td>\n",
       "    </tr>\n",
       "    <tr>\n",
       "      <th>4</th>\n",
       "      <td>HEART</td>\n",
       "      <td>Pre-existing heart disease – HEART - (coronary artery disease, congestive heart failure, valvular disease)    0 = No    1 = Yes</td>\n",
       "    </tr>\n",
       "  </tbody>\n",
       "</table>\n",
       "</div>"
      ],
      "text/plain": [
       "     Variable  \\\n",
       "0  subject_id   \n",
       "1       COVID   \n",
       "2     Age cat   \n",
       "3     BMI cat   \n",
       "4       HEART   \n",
       "\n",
       "                                                                                                                                                                Description  \n",
       "0                                                                                                                                                                Subject ID  \n",
       "1                                                           COVID status (tested positive prior to enrollment or during hospitalization)    0 = negative    1= positive      \n",
       "2                                                                                           Age category    1 = 20-34    2 = 36-49    3 = 50-64    4 = 65-79    5 = 80+      \n",
       "3  Body mass index:    0 = <18.5 (underweight)    1 = 18.5-24.9 (normal)    2 = 25.0-29.9 (overweight)    3 = 30.0-39.9 (obese)    4 = >=40 (severely obese)    5 = Unknown  \n",
       "4                                       Pre-existing heart disease – HEART - (coronary artery disease, congestive heart failure, valvular disease)    0 = No    1 = Yes      "
      ]
     },
     "execution_count": 17,
     "metadata": {},
     "output_type": "execute_result"
    }
   ],
   "source": [
    "pd.options.display.max_colwidth = 400\n",
    "display(dataVarDesc)\n",
    "dataVarDesc.head()"
   ]
  },
  {
   "cell_type": "markdown",
   "metadata": {
    "id": "A0JflAxvCBjt"
   },
   "source": [
    "some observations:\n",
    "* 'subject_id' is a unique key specifying a patient\n",
    "* there are 384 patients, leading to 384 rows of 'clinical info' for each of the 384 subjects\n",
    "* rows in 'NPX' data are the time series data points.\n",
    "* each row is the normalized protein expression ('NPX' column) for a time series data point ('Timepoint' column) for a specific protein ('UniProt' column) for a specific patient ('subject_id' column)\n",
    "\n",
    "Issues/questions:\n",
    "* 'subject_id' column in the NPX data frame is a float data type but it is an integer in the clinical info data frame. TODO: cast the column to integer so we can join across frames\n",
    "* what is 'LOD' column in the NPX data frame?\n",
    "* there are NaNs (missing data) to deal with\n",
    "\n",
    "Notes/questions from paper:\n",
    "* NPX values for scaled to (mean,sdev) ~ (0,1)\n",
    "* outliers windsorized (unclear if 4 or 5 sdevs, presumably before scaling)\n",
    "* How did they deal with missing data?\n",
    "* 'Supplemental Table(s) #'...??? what tables?\n",
    "* 'Extended Data Figure(s) #'...?  what extended data figures?\n"
   ]
  },
  {
   "cell_type": "markdown",
   "metadata": {
    "id": "US-igWTvLbLe"
   },
   "source": [
    "# Figure 1A statistics\n",
    "* Info data set\n",
    "* feature 'COVID' = 1 => confirmed covid case\n",
    "* 'Acuity_max' is bucketing data based on 'WHO_max' feature"
   ]
  },
  {
   "cell_type": "code",
   "execution_count": 18,
   "metadata": {
    "colab": {
     "base_uri": "https://localhost:8080/"
    },
    "executionInfo": {
     "elapsed": 271,
     "status": "ok",
     "timestamp": 1613507208353,
     "user": {
      "displayName": "MarkT",
      "photoUrl": "https://lh6.googleusercontent.com/-V1tAr0Wo2HY/AAAAAAAAAAI/AAAAAAAACxs/U3ijszpAPJc/s64/photo.jpg",
      "userId": "05951859285137718821"
     },
     "user_tz": 480
    },
    "id": "4HqLI8geoMio",
    "outputId": "90a0ea6d-3de9-4917-8425-b3e5e6afa3f6"
   },
   "outputs": [
    {
     "name": "stdout",
     "output_type": "stream",
     "text": [
      "# of patients confirmed with COVID:  306\n",
      "# of accuity max outcomes seen:  5\n",
      "bin covid positive patients by accuity max:\n",
      "WHO max =  1 :  42  cases (13.7  %}\n",
      "WHO max =  2 :  67  cases (21.9  %}\n",
      "WHO max =  4 :  133  cases (43.5  %}\n",
      "WHO max =  5 :  36  cases (11.8  %}\n",
      "WHO max =  6 :  28  cases (9.2  %}\n"
     ]
    }
   ],
   "source": [
    "# 'Acuity max within 28d' for patients confirmed with COVID:\n",
    "# ASSUME: feature is 'WHO max' with mapping (inferred from 'Results' section, page 3 and above feature descriptions):\n",
    "#     WHO max      'Accuity max within 28 days'\n",
    "#      1               A1\n",
    "#      2               A2\n",
    "#      3 & 4           A3\n",
    "#      5               A4\n",
    "#      6               A5\n",
    "covidPositivePatients = dataInfo.loc[dataInfo['COVID']==1]\n",
    "numCovidPositivePatients = len(covidPositivePatients)\n",
    "print(\"# of patients confirmed with COVID: \", numCovidPositivePatients)\n",
    "accuityMaxBins = covidPositivePatients.groupby(['WHO max'])\n",
    "print(\"# of accuity max outcomes seen: \", len(accuityMaxBins))\n",
    "uniqueAccuityMax = covidPositivePatients['WHO max'].unique()\n",
    "uniqueAccuityMax.sort()\n",
    "print(\"bin covid positive patients by accuity max:\")\n",
    "for val in uniqueAccuityMax:\n",
    "  numVal = len(covidPositivePatients.loc[covidPositivePatients['WHO max']==val])\n",
    "  print(\"WHO max = \",val,\": \", numVal, \" cases ({:.1f}\".format(100*numVal/numCovidPositivePatients),\" %}\")"
   ]
  },
  {
   "cell_type": "markdown",
   "metadata": {
    "id": "Cs2kZUZ9dRHW"
   },
   "source": [
    "Comments on above: \n",
    "* NOTE there is no 'WHO max' = 3 in the data.  I *think* WHO max = 4 is 'A3' in the paper\n",
    "* 'A4' and 'A5' in the paper are *close* to 'WHO max' = 5 and 'WHO max' = 6, respectively but not identical (41 vs 36 and 23 vs 28, respectively - WHY the difference??  snip from paper below:\n",
    "\n",
    "![image.png](data:image/png;base64,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)\n"
   ]
  },
  {
   "cell_type": "markdown",
   "metadata": {
    "id": "vIZCjYqybu3T"
   },
   "source": [
    "# Extended Data Figure 1: patient counts by age\n",
    "binning the data by 'count' of patients (ordinate) vs feature (e.g. age) vs covid positive or negative (color)\n",
    "NOTE: the publicly available data only has 'Age_cat' with 5 bins while the 'Extended Figures' have more detailed information"
   ]
  },
  {
   "cell_type": "code",
   "execution_count": 19,
   "metadata": {
    "executionInfo": {
     "elapsed": 298,
     "status": "ok",
     "timestamp": 1613507211066,
     "user": {
      "displayName": "MarkT",
      "photoUrl": "https://lh6.googleusercontent.com/-V1tAr0Wo2HY/AAAAAAAAAAI/AAAAAAAACxs/U3ijszpAPJc/s64/photo.jpg",
      "userId": "05951859285137718821"
     },
     "user_tz": 480
    },
    "id": "Yqsj0kVIQUTu"
   },
   "outputs": [],
   "source": [
    "#OLD   # cut by age using pandas function\n",
    "#OLD   print(\"unique age categories: \", dataInfo['Age cat'].unique())\n",
    "#OLD   dataInfo.hist(column='Age cat',by='COVID')"
   ]
  },
  {
   "cell_type": "code",
   "execution_count": 21,
   "metadata": {
    "colab": {
     "base_uri": "https://localhost:8080/",
     "height": 610
    },
    "executionInfo": {
     "elapsed": 538,
     "status": "ok",
     "timestamp": 1613459631792,
     "user": {
      "displayName": "MarkT",
      "photoUrl": "https://lh6.googleusercontent.com/-V1tAr0Wo2HY/AAAAAAAAAAI/AAAAAAAACxs/U3ijszpAPJc/s64/photo.jpg",
      "userId": "05951859285137718821"
     },
     "user_tz": 480
    },
    "id": "CRGfdPjdhqPS",
    "outputId": "ba31e5ad-f9cf-4196-d5fc-f319e4814069"
   },
   "outputs": [
    {
     "name": "stdout",
     "output_type": "stream",
     "text": [
      "positives: \n",
      "     Age cat  =  1 :  32  cases (10.5  %}\n",
      "     Age cat  =  2 :  66  cases (21.6  %}\n",
      "     Age cat  =  3 :  89  cases (29.1  %}\n",
      "     Age cat  =  4 :  65  cases (21.2  %}\n",
      "     Age cat  =  5 :  54  cases (17.6  %}\n",
      "negatives: \n",
      "     Age cat  =  1 :  4  cases (5.1  %}\n",
      "     Age cat  =  2 :  7  cases (9.0  %}\n",
      "     Age cat  =  3 :  22  cases (28.2  %}\n",
      "     Age cat  =  4 :  34  cases (43.6  %}\n",
      "     Age cat  =  5 :  11  cases (14.1  %}\n"
     ]
    },
    {
     "data": {
      "text/plain": [
       "<matplotlib.legend.Legend at 0x25121ba67c0>"
      ]
     },
     "execution_count": 21,
     "metadata": {},
     "output_type": "execute_result"
    },
    {
     "data": {
      "image/png": "[encoded data removed]",
      "text/plain": [
       "<Figure size 576x432 with 1 Axes>"
      ]
     },
     "metadata": {
      "needs_background": "light"
     },
     "output_type": "display_data"
    }
   ],
   "source": [
    "# compare the data by overlaying histograms using matplotlib functionality:\n",
    "feature = \"Age cat\"\n",
    "uniqueVals = dataInfo[feature].unique()\n",
    "uniqueVals.sort()\n",
    "# numBins = len(uniqueVals)\n",
    "positives = dataInfo.loc[dataInfo['COVID']==1]\n",
    "negatives = dataInfo.loc[dataInfo['COVID']==0]\n",
    "numPos = len(positives)\n",
    "numNeg = len(negatives)\n",
    "# trim the data\n",
    "dataPos = positives[feature]\n",
    "dataNeg = negatives[feature]\n",
    "print(\"positives: \")\n",
    "for val in uniqueVals:\n",
    "  numVal = len(positives.loc[positives[feature]==val])\n",
    "  print(\"    \", feature,\" = \",val,\": \", numVal, \" cases ({:.1f}\".format(100*numVal/numPos),\" %}\")\n",
    "print(\"negatives: \")\n",
    "for val in uniqueVals:\n",
    "  numVal = len(negatives.loc[negatives[feature]==val])\n",
    "  print(\"    \", feature,\" = \",val,\": \", numVal, \" cases ({:.1f}\".format(100*numVal/numNeg),\" %}\")\n",
    "\n",
    "# plot the data\n",
    "plt.figure(figsize=(8,6))\n",
    "plt.hist(dataPos, alpha=0.5, label=\"COVID-19-positive\", ec='black')\n",
    "plt.hist(dataNeg, alpha=0.5, label=\"COVID-19-negative\", ec='black')\n",
    "plt.xlabel(feature, size=14)\n",
    "plt.ylabel(\"Patient Count\", size=14)\n",
    "plt.xticks(uniqueVals)\n",
    "plt.legend(loc='upper right')\n"
   ]
  },
  {
   "cell_type": "code",
   "execution_count": 22,
   "metadata": {
    "colab": {
     "base_uri": "https://localhost:8080/"
    },
    "executionInfo": {
     "elapsed": 777,
     "status": "ok",
     "timestamp": 1613459634348,
     "user": {
      "displayName": "MarkT",
      "photoUrl": "https://lh6.googleusercontent.com/-V1tAr0Wo2HY/AAAAAAAAAAI/AAAAAAAACxs/U3ijszpAPJc/s64/photo.jpg",
      "userId": "05951859285137718821"
     },
     "user_tz": 480
    },
    "id": "g1HeLBmK6ETX",
    "outputId": "16751bc6-826a-47f5-d920-4f52885f68e0"
   },
   "outputs": [
    {
     "name": "stdout",
     "output_type": "stream",
     "text": [
      "MWU Statistics=9682.000, p=0.004\n",
      "Statistically different distributions (reject H0)\n"
     ]
    }
   ],
   "source": [
    "# significance test:    H0: populations are identical\n",
    "# MWU statistic test to see if two samples are from the same population\n",
    "stat, ppp = mannwhitneyu(dataPos, dataNeg)\n",
    "print('MWU Statistics=%.3f, p=%.3f' % (stat, ppp))\n",
    "# interpret w 95% confidence\n",
    "alpha = 0.05\n",
    "if ppp > alpha:\n",
    "\tprint('Statistically SAME distribution (fail to reject H0)')\n",
    "else:\n",
    "\tprint('Statistically different distributions (reject H0)')"
   ]
  },
  {
   "cell_type": "markdown",
   "metadata": {
    "id": "PnIJfkTbjxKF"
   },
   "source": [
    "NOTE: The p value above is different then reported in their 'Extended Data Figure 1' - but - we are using coarser age data (only 5 categories asot ~30).  The statistical conclusion is the same:  splitting on Covit positives vs negatives looks like samples from two different populations."
   ]
  },
  {
   "cell_type": "markdown",
   "metadata": {
    "id": "Fuj0tAAwmILX"
   },
   "source": [
    "# Extended Data Figure 1: patients by 'WHO 0' (Acuity @ Day 0)\n",
    "this figure presents count of patients (ordinate) vs feature 'WHO 0' split by covid positive or negative (color)\n",
    "Recall 'WHO 0' = 5 & 6 map to Acuity 'A4' & 'A5', respectively."
   ]
  },
  {
   "cell_type": "code",
   "execution_count": 24,
   "metadata": {
    "colab": {
     "base_uri": "https://localhost:8080/",
     "height": 468
    },
    "executionInfo": {
     "elapsed": 477,
     "status": "ok",
     "timestamp": 1613459639922,
     "user": {
      "displayName": "MarkT",
      "photoUrl": "https://lh6.googleusercontent.com/-V1tAr0Wo2HY/AAAAAAAAAAI/AAAAAAAACxs/U3ijszpAPJc/s64/photo.jpg",
      "userId": "05951859285137718821"
     },
     "user_tz": 480
    },
    "id": "yJH3bytVmlnP",
    "outputId": "fd4830e7-006b-4a8c-c122-6f67f7935da2"
   },
   "outputs": [
    {
     "name": "stdout",
     "output_type": "stream",
     "text": [
      "positives: \n",
      "     WHO 0  =  2 :  79  cases (25.8  %}\n",
      "     WHO 0  =  4 :  152  cases (49.7  %}\n",
      "     WHO 0  =  5 :  46  cases (15.0  %}\n",
      "     WHO 0  =  6 :  29  cases (9.5  %}\n",
      "negatives: \n",
      "     WHO 0  =  2 :  19  cases (24.4  %}\n",
      "     WHO 0  =  4 :  35  cases (44.9  %}\n",
      "     WHO 0  =  5 :  15  cases (19.2  %}\n",
      "     WHO 0  =  6 :  9  cases (11.5  %}\n"
     ]
    },
    {
     "data": {
      "text/plain": [
       "<matplotlib.legend.Legend at 0x251104b6c10>"
      ]
     },
     "execution_count": 24,
     "metadata": {},
     "output_type": "execute_result"
    },
    {
     "data": {
      "image/png": "[encoded data removed]",
      "text/plain": [
       "<Figure size 432x288 with 1 Axes>"
      ]
     },
     "metadata": {
      "needs_background": "light"
     },
     "output_type": "display_data"
    }
   ],
   "source": [
    "# patient counts by accuity on day 0\n",
    "feature = \"WHO 0\"\n",
    "uniqueVals = dataInfo[feature].unique()\n",
    "uniqueVals.sort()\n",
    "positives = dataInfo.loc[dataInfo['COVID']==1]\n",
    "negatives = dataInfo.loc[dataInfo['COVID']==0]\n",
    "numPos = len(positives)\n",
    "numNeg = len(negatives)\n",
    "# trim the data\n",
    "dataPos = positives[feature]\n",
    "dataNeg = negatives[feature]\n",
    "print(\"positives: \")\n",
    "for val in uniqueVals:\n",
    "  numVal = len(positives.loc[positives[feature]==val])\n",
    "  print(\"    \", feature,\" = \",val,\": \", numVal, \" cases ({:.1f}\".format(100*numVal/numPos),\" %}\")\n",
    "print(\"negatives: \")\n",
    "for val in uniqueVals:\n",
    "  numVal = len(negatives.loc[negatives[feature]==val])\n",
    "  print(\"    \", feature,\" = \",val,\": \", numVal, \" cases ({:.1f}\".format(100*numVal/numNeg),\" %}\")\n",
    "\n",
    "# plot\n",
    "plt.hist(dataPos, alpha=0.5, label=\"COVID-19-positive\", ec='black')\n",
    "plt.hist(dataNeg, alpha=0.5, label=\"COVID-19-negative\", ec='black')\n",
    "plt.xlabel(feature, size=14)\n",
    "plt.ylabel(\"Patient Count\", size=14)\n",
    "plt.xticks(uniqueVals)\n",
    "plt.legend(loc='upper right')"
   ]
  },
  {
   "cell_type": "markdown",
   "metadata": {
    "id": "bzxuvawtYRqz"
   },
   "source": [
    "NOTE: the publicly available data only has 'WHO 0' has NO data but accuity 'A1' but it is present in their chart - WTF?    \n",
    "\n",
    "![image.png](data:image/png;base64,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)\n"
   ]
  },
  {
   "cell_type": "markdown",
   "metadata": {
    "id": "olmMcczDmzsi"
   },
   "source": [
    "# Extended Data Figure 1: patients by 'WHO max' (Acuity max within 28 days)\n",
    "this figure presents count of patients (ordinate) vs feature 'WHO 0' split by covid positive or negative (color)\n",
    "Recall 'WHO 0' = 5 & 6 map to Acuity 'A4' & 'A5', respectively."
   ]
  },
  {
   "cell_type": "code",
   "execution_count": 26,
   "metadata": {
    "colab": {
     "base_uri": "https://localhost:8080/",
     "height": 502
    },
    "executionInfo": {
     "elapsed": 562,
     "status": "ok",
     "timestamp": 1613460056279,
     "user": {
      "displayName": "MarkT",
      "photoUrl": "https://lh6.googleusercontent.com/-V1tAr0Wo2HY/AAAAAAAAAAI/AAAAAAAACxs/U3ijszpAPJc/s64/photo.jpg",
      "userId": "05951859285137718821"
     },
     "user_tz": 480
    },
    "id": "Rp3f3iXMk5IR",
    "outputId": "61cff53a-0d88-4f19-9727-08451c979cb0"
   },
   "outputs": [
    {
     "name": "stdout",
     "output_type": "stream",
     "text": [
      "positives: \n",
      "     WHO max  =  1 :  42  cases (13.7  %}\n",
      "     WHO max  =  2 :  67  cases (21.9  %}\n",
      "     WHO max  =  4 :  133  cases (43.5  %}\n",
      "     WHO max  =  5 :  36  cases (11.8  %}\n",
      "     WHO max  =  6 :  28  cases (9.2  %}\n",
      "negatives: \n",
      "     WHO max  =  1 :  7  cases (9.0  %}\n",
      "     WHO max  =  2 :  16  cases (20.5  %}\n",
      "     WHO max  =  4 :  34  cases (43.6  %}\n",
      "     WHO max  =  5 :  12  cases (15.4  %}\n",
      "     WHO max  =  6 :  9  cases (11.5  %}\n"
     ]
    },
    {
     "data": {
      "text/plain": [
       "<matplotlib.legend.Legend at 0x25121c55e20>"
      ]
     },
     "execution_count": 26,
     "metadata": {},
     "output_type": "execute_result"
    },
    {
     "data": {
      "image/png": "[encoded data removed]",
      "text/plain": [
       "<Figure size 432x288 with 1 Axes>"
      ]
     },
     "metadata": {
      "needs_background": "light"
     },
     "output_type": "display_data"
    }
   ],
   "source": [
    "# patient counts by max acuity\n",
    "feature = \"WHO max\"\n",
    "uniqueVals = dataInfo[feature].unique()\n",
    "uniqueVals.sort()\n",
    "numBins = len(uniqueVals)\n",
    "positives = dataInfo.loc[dataInfo['COVID']==1]\n",
    "negatives = dataInfo.loc[dataInfo['COVID']==0]\n",
    "numPos = len(positives)\n",
    "numNeg = len(negatives)\n",
    "# trim the data\n",
    "dataPos = positives[feature]\n",
    "dataNeg = negatives[feature]\n",
    "print(\"positives: \")\n",
    "for val in uniqueVals:\n",
    "  numVal = len(positives.loc[positives[feature]==val])\n",
    "  print(\"    \", feature,\" = \",val,\": \", numVal, \" cases ({:.1f}\".format(100*numVal/numPos),\" %}\")\n",
    "print(\"negatives: \")\n",
    "for val in uniqueVals:\n",
    "  numVal = len(negatives.loc[negatives[feature]==val])\n",
    "  print(\"    \", feature,\" = \",val,\": \", numVal, \" cases ({:.1f}\".format(100*numVal/numNeg),\" %}\")\n",
    "\n",
    "# plot\n",
    "plt.hist(dataPos, alpha=0.5, label=\"COVID-19-positive\", ec='black')\n",
    "plt.hist(dataNeg, alpha=0.5, label=\"COVID-19-negative\", ec='black')\n",
    "plt.xlabel(feature, size=14)\n",
    "plt.ylabel(\"Patient Count\", size=14)\n",
    "plt.xticks(uniqueVals)\n",
    "plt.legend(loc='upper right')"
   ]
  },
  {
   "cell_type": "code",
   "execution_count": 31,
   "metadata": {
    "colab": {
     "base_uri": "https://localhost:8080/"
    },
    "executionInfo": {
     "elapsed": 307,
     "status": "ok",
     "timestamp": 1613460467362,
     "user": {
      "displayName": "MarkT",
      "photoUrl": "https://lh6.googleusercontent.com/-V1tAr0Wo2HY/AAAAAAAAAAI/AAAAAAAACxs/U3ijszpAPJc/s64/photo.jpg",
      "userId": "05951859285137718821"
     },
     "user_tz": 480
    },
    "id": "nfuPiHV3cUl8",
    "outputId": "03e59eff-94ea-424f-d8c0-5690005edc82"
   },
   "outputs": [
    {
     "name": "stdout",
     "output_type": "stream",
     "text": [
      "COVID     0    1\n",
      "WHO max         \n",
      "1         7   42\n",
      "2        16   67\n",
      "4        34  133\n",
      "5        12   36\n",
      "6         9   28\n",
      "dof=4\n",
      "[[  9.953125  39.046875]\n",
      " [ 16.859375  66.140625]\n",
      " [ 33.921875 133.078125]\n",
      " [  9.75      38.25    ]\n",
      " [  7.515625  29.484375]]\n",
      "probability=0.950, critical=9.488, stat=2.174\n",
      "Independent (fail to reject H0)\n",
      "significance=0.050, p=0.704\n",
      "Independent (fail to reject H0)\n"
     ]
    }
   ],
   "source": [
    "# UNTESTED!!!\n",
    "#\n",
    "# Chi^2 significance test for dependence/indepence for categorical variables\n",
    "# source: https://machinelearningmastery.com/chi-squared-test-for-machine-learning/\n",
    "#\n",
    "# build contingency table between Covid +/- and WHO max:\n",
    "feature1 = 'WHO max'\n",
    "feature2 = 'COVID'\n",
    "data_crosstab = pd.crosstab(dataInfo[feature1], \n",
    "                            dataInfo[feature2],  \n",
    "                               margins = False) \n",
    "print(data_crosstab)\n",
    "stat, p, dof, expected = chi2_contingency(data_crosstab)\n",
    "print('dof=%d' % dof)\n",
    "print(expected)\n",
    "\n",
    "# interpret test-statistic\n",
    "prob = 0.95\n",
    "critical = chi2.ppf(prob, dof)\n",
    "print('probability=%.3f, critical=%.3f, stat=%.3f' % (prob, critical, stat))\n",
    "if abs(stat) >= critical:\n",
    "\tprint('Dependent (reject H0)')\n",
    "else:\n",
    "\tprint('Independent (fail to reject H0)')\n",
    "    \n",
    "# interpret p-value\n",
    "alpha = 1.0 - prob\n",
    "print('significance=%.3f, p=%.3f' % (alpha, p))\n",
    "if p <= alpha:\n",
    "\tprint('Dependent (reject H0)')\n",
    "else:\n",
    "\tprint('Independent (fail to reject H0)')\n"
   ]
  },
  {
   "cell_type": "markdown",
   "metadata": {
    "id": "klbG4O3DvQn-"
   },
   "source": [
    "#Figure 1E - DDX58 NPX box plot split by COVID+/- (all times?)\n",
    "Verify I have the data and understand what they are plotting"
   ]
  },
  {
   "cell_type": "code",
   "execution_count": 32,
   "metadata": {
    "colab": {
     "base_uri": "https://localhost:8080/",
     "height": 382
    },
    "executionInfo": {
     "elapsed": 600,
     "status": "ok",
     "timestamp": 1613464068913,
     "user": {
      "displayName": "MarkT",
      "photoUrl": "https://lh6.googleusercontent.com/-V1tAr0Wo2HY/AAAAAAAAAAI/AAAAAAAACxs/U3ijszpAPJc/s64/photo.jpg",
      "userId": "05951859285137718821"
     },
     "user_tz": 480
    },
    "id": "S0YI5NIis3hN",
    "outputId": "38b9fd76-35f5-46a2-fe45-7f301fda135b"
   },
   "outputs": [
    {
     "name": "stdout",
     "output_type": "stream",
     "text": [
      "dimensions: \n",
      "    rows:  804\n",
      "    cols:  14\n",
      "dimensions: \n",
      "    rows:  804\n",
      "    cols:  53\n"
     ]
    },
    {
     "data": {
      "image/png": "[encoded data removed]",
      "text/plain": [
       "<Figure size 432x288 with 1 Axes>"
      ]
     },
     "metadata": {
      "needs_background": "light"
     },
     "output_type": "display_data"
    }
   ],
   "source": [
    "# patient counts by max acuity\n",
    "feature = \"Assay\" \n",
    "featureVal = \"DDX58\"\n",
    "plotFeature = \"NPX\"\n",
    "featureData = dataNpx.loc[dataNpx[feature]==featureVal]\n",
    "print(\"dimensions: \")\n",
    "print(\"    rows: \", featureData.shape[0])\n",
    "print(\"    cols: \", featureData.shape[1])\n",
    "# join on the COVID +/- data from clinical info - join on subject id\n",
    "joinData = pd.merge(featureData, dataInfo, on='subject_id',how='left')\n",
    "print(\"dimensions: \")\n",
    "print(\"    rows: \", joinData.shape[0])\n",
    "print(\"    cols: \", joinData.shape[1])\n",
    "\n",
    "bplot = sns.boxplot(y='NPX', x='COVID', \n",
    "                 data=joinData, \n",
    "                 width=0.5,\n",
    "                 palette=\"colorblind\")\n",
    "bplot=sns.stripplot(y='NPX', x='COVID', \n",
    "                   data=joinData, \n",
    "                   jitter=True, \n",
    "                   marker='o', \n",
    "                   alpha=0.5,\n",
    "                   color='black',\n",
    "                   size=2)\n",
    "#bplot=sns.swarmplot(y='NPX', x='COVID', \n",
    "#                   data=joinData, \n",
    "#                   alpha=0.75,\n",
    "#                   color='black',\n",
    "#                   size=2)\n"
   ]
  },
  {
   "cell_type": "code",
   "execution_count": null,
   "metadata": {},
   "outputs": [],
   "source": []
  }
 ],
 "metadata": {
  "colab": {
   "authorship_tag": "ABX9TyPtqNO2kVtbL9tJghQVuEYj",
   "collapsed_sections": [],
   "name": "MGH_Olink_Covid_v2.ipynb",
   "provenance": [
    {
     "file_id": "1tCEuxYTh_i2Hog3ua-we1F466LexAzOi",
     "timestamp": 1613427435587
    }
   ]
  },
  "kernelspec": {
   "display_name": "Python 3",
   "language": "python",
   "name": "python3"
  },
  "language_info": {
   "codemirror_mode": {
    "name": "ipython",
    "version": 3
   },
   "file_extension": ".py",
   "mimetype": "text/x-python",
   "name": "python",
   "nbconvert_exporter": "python",
   "pygments_lexer": "ipython3",
   "version": "3.8.7"
  }
 },
 "nbformat": 4,
 "nbformat_minor": 1
}
